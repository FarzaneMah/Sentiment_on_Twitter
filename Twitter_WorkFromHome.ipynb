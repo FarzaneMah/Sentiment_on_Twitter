{
 "cells": [
  {
   "cell_type": "markdown",
   "metadata": {},
   "source": [
    "# Work from Home Sentiment on Twitter\n",
    "\n",
    "### Intro to the project\n",
    "\n",
    "When Covid-19 hit, most people were asked to work from home. I was curious to know how they think about it.\n",
    "So I tried to find out what they are tweeting about it. \n",
    "I also wanted to know if the sentiment about working from home differs in different parts of the world.\n",
    "\n",
    "I think it is useful to know if people are willing to work from home because the sentiment about working from home can affect productivity and influence policy making, both during COVID-19 outbreak and after that.  "
   ]
  },
  {
   "cell_type": "code",
   "execution_count": 237,
   "metadata": {},
   "outputs": [],
   "source": [
    "#importing packages\n",
    "import pandas as pd\n",
    "import matplotlib.pyplot as plt\n",
    "import seaborn as sns\n",
    "import itertools\n",
    "import collections\n",
    "\n",
    "import tweepy as tw\n",
    "from TwitterAPI import TwitterAPI\n",
    "import nltk\n",
    "from nltk.corpus import stopwords\n",
    "import re\n",
    "import networkx as nx\n",
    "from textblob import TextBlob\n",
    "from nltk import bigrams\n",
    "\n",
    "import warnings\n",
    "warnings.filterwarnings(\"ignore\")\n",
    "\n",
    "sns.set(font_scale=1.8)\n",
    "sns.set_style(\"whitegrid\")"
   ]
  },
  {
   "cell_type": "code",
   "execution_count": 238,
   "metadata": {},
   "outputs": [],
   "source": [
    "#Keys and Tokens From Twitter\n",
    "API_key = ''\n",
    "API_secret_key = ''\n",
    "Token = ''\n",
    "Token_secret = ''"
   ]
  },
  {
   "cell_type": "markdown",
   "metadata": {},
   "source": [
    "Logging to twitter via code:"
   ]
  },
  {
   "cell_type": "code",
   "execution_count": 239,
   "metadata": {},
   "outputs": [],
   "source": [
    "auth = tw.OAuthHandler(API_key, API_secret_key)\n",
    "auth.set_access_token(Token, Token_secret)\n",
    "api = tw.API(auth, wait_on_rate_limit=True)"
   ]
  },
  {
   "cell_type": "markdown",
   "metadata": {},
   "source": [
    "Iterating through timelines, to find search terms (work from home OR work remote):"
   ]
  },
  {
   "cell_type": "code",
   "execution_count": 240,
   "metadata": {},
   "outputs": [],
   "source": [
    "search_term = \"work from home OR work remote -filter:retweets AND -filter:replies\"#filter out retweets and replies\n",
    "\n",
    "tweets = tw.Cursor(api.search,\n",
    "                   q=search_term,\n",
    "                   lang=\"en\").items(1000)\n",
    "\n",
    "#for tweet in tweets:    ###incase we wanted to see the tweets to make decisions\n",
    "#    print(tweet.text)"
   ]
  },
  {
   "cell_type": "markdown",
   "metadata": {},
   "source": [
    "There are many URLs in the tweets, to remove them we define a function:"
   ]
  },
  {
   "cell_type": "code",
   "execution_count": 241,
   "metadata": {},
   "outputs": [],
   "source": [
    "def remove_URL(text):\n",
    "    \"\"\"Removing URLs from the text\n",
    "    input: text\n",
    "    output: text with no URL\"\"\"\n",
    "    #Replace the url with an empty string\n",
    "    return re.sub(\"(\\w+:\\/\\/\\S+)\", \"\", text)"
   ]
  },
  {
   "cell_type": "markdown",
   "metadata": {},
   "source": [
    "In our basic search we don't use punctuations. They might be important in some cases but for now we can ignore them.\n"
   ]
  },
  {
   "cell_type": "code",
   "execution_count": 242,
   "metadata": {},
   "outputs": [],
   "source": [
    "def remove_Punctuation(text):\n",
    "    \"\"\"Removing Punctuations from the text\n",
    "    input: text\n",
    "    output: text with no Punctuation\"\"\"\n",
    "    punctuations = '''!()-[]{};:`\\'\"\\,<>./?@#$%^&*_~–'''\n",
    "    for char in text:\n",
    "        if char in punctuations or char=='\\n':\n",
    "            text = text.replace(char, \"\")\n",
    "    return text"
   ]
  },
  {
   "cell_type": "markdown",
   "metadata": {},
   "source": [
    "Making a list of the tweets' text without URLs and punctuactions, and all in lower case text for doing more analysis:"
   ]
  },
  {
   "cell_type": "code",
   "execution_count": 243,
   "metadata": {
    "scrolled": true
   },
   "outputs": [
    {
     "data": {
      "text/plain": [
       "'could working from home permanently work for your business we can help with solutions strategies and support for… '"
      ]
     },
     "execution_count": 243,
     "metadata": {},
     "output_type": "execute_result"
    }
   ],
   "source": [
    "all_tweets_text = [remove_Punctuation(remove_URL(tweet.text.lower())) for tweet in tweets]\n",
    "\n",
    "all_tweets_text[1]#just for checking"
   ]
  },
  {
   "cell_type": "markdown",
   "metadata": {},
   "source": [
    "Chacking couple of times, I have seen that there are same tweets from different locations\\\n",
    "or users so here we can remove duplicate tweets for better results"
   ]
  },
  {
   "cell_type": "code",
   "execution_count": 244,
   "metadata": {},
   "outputs": [],
   "source": [
    "\n",
    "all_tweets_text = list(set(all_tweets_text))\n"
   ]
  },
  {
   "cell_type": "markdown",
   "metadata": {},
   "source": [
    "making a list of all words from all the tweets:"
   ]
  },
  {
   "cell_type": "code",
   "execution_count": 245,
   "metadata": {
    "scrolled": true
   },
   "outputs": [
    {
     "data": {
      "text/plain": [
       "['🌍', 'work', 'from', 'anywhere', 'as']"
      ]
     },
     "execution_count": 245,
     "metadata": {},
     "output_type": "execute_result"
    }
   ],
   "source": [
    "all_words = []\n",
    "for tweet in all_tweets_text:\n",
    "    for word in tweet.split():\n",
    "        all_words.append(word)\n",
    "all_words[0:5]#to check"
   ]
  },
  {
   "cell_type": "markdown",
   "metadata": {},
   "source": [
    "Frequency of the words in the investigated tweets can help us see some trends\\\n",
    "and might give us better insight:"
   ]
  },
  {
   "cell_type": "code",
   "execution_count": 246,
   "metadata": {},
   "outputs": [],
   "source": [
    "def word_freq(list):\n",
    "    \"\"\"getting the frequency of words\n",
    "    input: a list\n",
    "    output: dictionary with items of the list as keys\n",
    "            and their frequencies in the list as the value\n",
    "    \"\"\"\n",
    "    words_dict = {}\n",
    "    for word in list:\n",
    "        words_dict[word] = words_dict.get(word,0)+1\n",
    "    return words_dict"
   ]
  },
  {
   "cell_type": "markdown",
   "metadata": {},
   "source": [
    "In order to get a better sense on the data, we can sort the words based on the frequencies:"
   ]
  },
  {
   "cell_type": "code",
   "execution_count": 432,
   "metadata": {},
   "outputs": [
    {
     "name": "stdout",
     "output_type": "stream",
     "text": [
      "('from', 367)\n",
      "('work', 344)\n",
      "('remote', 311)\n",
      "('the', 309)\n",
      "('to', 306)\n",
      "('a', 191)\n",
      "('home', 187)\n",
      "('of', 174)\n",
      "('and', 173)\n",
      "('for', 137)\n",
      "('in', 113)\n",
      "('is', 111)\n",
      "('working', 107)\n",
      "('you', 86)\n",
      "('are', 83)\n"
     ]
    }
   ],
   "source": [
    "sort_orders = sorted(word_freq(all_words).items(), key=lambda x: x[1], reverse=True)\n",
    "\n",
    "for i in sort_orders[0:15]:#just to check\n",
    "    print(i)"
   ]
  },
  {
   "cell_type": "markdown",
   "metadata": {},
   "source": [
    "Based on the results, there are many stopwords and removing them can potentially help improve\\\n",
    "the performance as there are fewer and only meaningful words left. "
   ]
  },
  {
   "cell_type": "code",
   "execution_count": 248,
   "metadata": {},
   "outputs": [
    {
     "name": "stderr",
     "output_type": "stream",
     "text": [
      "[nltk_data] Downloading package stopwords to\n",
      "[nltk_data]     C:\\Users\\Farzaneh\\AppData\\Roaming\\nltk_data...\n",
      "[nltk_data]   Package stopwords is already up-to-date!\n"
     ]
    }
   ],
   "source": [
    "nltk.download('stopwords') #Downloading stopwords\n",
    "stop_words = set(stopwords.words('english'))"
   ]
  },
  {
   "cell_type": "markdown",
   "metadata": {},
   "source": [
    "Removing stopwords and looking at the words after removing the stop words:"
   ]
  },
  {
   "cell_type": "code",
   "execution_count": 249,
   "metadata": {},
   "outputs": [
    {
     "data": {
      "text/html": [
       "<div>\n",
       "<style scoped>\n",
       "    .dataframe tbody tr th:only-of-type {\n",
       "        vertical-align: middle;\n",
       "    }\n",
       "\n",
       "    .dataframe tbody tr th {\n",
       "        vertical-align: top;\n",
       "    }\n",
       "\n",
       "    .dataframe thead th {\n",
       "        text-align: right;\n",
       "    }\n",
       "</style>\n",
       "<table border=\"1\" class=\"dataframe\">\n",
       "  <thead>\n",
       "    <tr style=\"text-align: right;\">\n",
       "      <th></th>\n",
       "      <th>word</th>\n",
       "      <th>freq</th>\n",
       "    </tr>\n",
       "  </thead>\n",
       "  <tbody>\n",
       "    <tr>\n",
       "      <th>0</th>\n",
       "      <td>work</td>\n",
       "      <td>344</td>\n",
       "    </tr>\n",
       "    <tr>\n",
       "      <th>1</th>\n",
       "      <td>remote</td>\n",
       "      <td>311</td>\n",
       "    </tr>\n",
       "    <tr>\n",
       "      <th>2</th>\n",
       "      <td>home</td>\n",
       "      <td>187</td>\n",
       "    </tr>\n",
       "    <tr>\n",
       "      <th>3</th>\n",
       "      <td>working</td>\n",
       "      <td>107</td>\n",
       "    </tr>\n",
       "    <tr>\n",
       "      <th>4</th>\n",
       "      <td>new</td>\n",
       "      <td>69</td>\n",
       "    </tr>\n",
       "    <tr>\n",
       "      <th>5</th>\n",
       "      <td>employees</td>\n",
       "      <td>52</td>\n",
       "    </tr>\n",
       "    <tr>\n",
       "      <th>6</th>\n",
       "      <td>job</td>\n",
       "      <td>41</td>\n",
       "    </tr>\n",
       "    <tr>\n",
       "      <th>7</th>\n",
       "      <td>office</td>\n",
       "      <td>36</td>\n",
       "    </tr>\n",
       "    <tr>\n",
       "      <th>8</th>\n",
       "      <td>need</td>\n",
       "      <td>32</td>\n",
       "    </tr>\n",
       "    <tr>\n",
       "      <th>9</th>\n",
       "      <td>companies</td>\n",
       "      <td>30</td>\n",
       "    </tr>\n",
       "    <tr>\n",
       "      <th>10</th>\n",
       "      <td>remotework</td>\n",
       "      <td>26</td>\n",
       "    </tr>\n",
       "    <tr>\n",
       "      <th>11</th>\n",
       "      <td>workfromhome</td>\n",
       "      <td>26</td>\n",
       "    </tr>\n",
       "    <tr>\n",
       "      <th>12</th>\n",
       "      <td>workers</td>\n",
       "      <td>24</td>\n",
       "    </tr>\n",
       "    <tr>\n",
       "      <th>13</th>\n",
       "      <td>team</td>\n",
       "      <td>23</td>\n",
       "    </tr>\n",
       "    <tr>\n",
       "      <th>14</th>\n",
       "      <td>many</td>\n",
       "      <td>22</td>\n",
       "    </tr>\n",
       "  </tbody>\n",
       "</table>\n",
       "</div>"
      ],
      "text/plain": [
       "            word  freq\n",
       "0           work   344\n",
       "1         remote   311\n",
       "2           home   187\n",
       "3        working   107\n",
       "4            new    69\n",
       "5      employees    52\n",
       "6            job    41\n",
       "7         office    36\n",
       "8           need    32\n",
       "9      companies    30\n",
       "10    remotework    26\n",
       "11  workfromhome    26\n",
       "12       workers    24\n",
       "13          team    23\n",
       "14          many    22"
      ]
     },
     "execution_count": 249,
     "metadata": {},
     "output_type": "execute_result"
    }
   ],
   "source": [
    "words_no_stop = [word for word in all_words if not word in stop_words]\n",
    "word_sort_orders = sorted(word_freq(words_no_stop).items(), key=lambda x: x[1], reverse=True)\n",
    "\n",
    "pd.DataFrame(word_sort_orders, columns=['word', 'freq']).head(15)"
   ]
  },
  {
   "cell_type": "markdown",
   "metadata": {},
   "source": [
    "There are some words directly related to the words used in the search or \\\n",
    "don't add any new information, so we can remove them:"
   ]
  },
  {
   "cell_type": "code",
   "execution_count": 250,
   "metadata": {},
   "outputs": [],
   "source": [
    " words_to_be_removed = ['work', 'remote', 'home','people','arent', 'many','looking',\\\n",
    "                        'could','make','us', 'one','going','a','via','doesn‘t','for','yo',\\\n",
    "                        'your','front','more','guard','letting','get','working','🚨','📢','still']"
   ]
  },
  {
   "cell_type": "code",
   "execution_count": 251,
   "metadata": {},
   "outputs": [],
   "source": [
    "words_clean = [i for i in words_no_stop if not i in words_to_be_removed ]\n",
    "words_sorted_clean = sorted(word_freq(words_clean).items(), key=lambda x: x[1], reverse=True)"
   ]
  },
  {
   "cell_type": "markdown",
   "metadata": {},
   "source": [
    "Visualizing the first 30 mostcommon words in the tweets:"
   ]
  },
  {
   "cell_type": "code",
   "execution_count": 429,
   "metadata": {},
   "outputs": [
    {
     "data": {
      "image/png": "[encoded data removed]",
      "text/plain": [
       "<Figure size 720x720 with 1 Axes>"
      ]
     },
     "metadata": {},
     "output_type": "display_data"
    }
   ],
   "source": [
    "tweets_dataframe = pd.DataFrame(words_sorted_clean[:20],\n",
    "                             columns=['words', 'count'])\n",
    "\n",
    "fig, ax = plt.subplots(figsize=(10, 10))\n",
    "import random\n",
    "# Plot horizontal bar graph\n",
    "tweets_dataframe.sort_values(by='count').plot.barh(x='words',\n",
    "                      y='count',\n",
    "                      ax=ax,\n",
    "                      color=[(0.2,0.5,0.8),(0.2,0.5,0.6)],fontsize=12)\n",
    "\n",
    "ax.set_title(\"Common Words Found in Tweets\\n (Without Stop Words)\")\n",
    "\n",
    "plt.show()"
   ]
  },
  {
   "cell_type": "markdown",
   "metadata": {},
   "source": [
    "To identify co-occurrence of words in the tweets, you can use:"
   ]
  },
  {
   "cell_type": "code",
   "execution_count": 386,
   "metadata": {},
   "outputs": [
    {
     "data": {
      "text/plain": [
       "[['an',\n",
       "  'allinone',\n",
       "  'solution',\n",
       "  'for',\n",
       "  'remote',\n",
       "  'desktop',\n",
       "  'and',\n",
       "  'remote',\n",
       "  'pc',\n",
       "  'game',\n",
       "  'with',\n",
       "  'awesun',\n",
       "  'no',\n",
       "  'matter',\n",
       "  'where',\n",
       "  'you',\n",
       "  'are',\n",
       "  'you’re',\n",
       "  'always',\n",
       "  'j…'],\n",
       " ['chicagoarea',\n",
       "  'teachers',\n",
       "  'at',\n",
       "  'higher',\n",
       "  'risk',\n",
       "  'for',\n",
       "  'covid19',\n",
       "  'hope',\n",
       "  'remote',\n",
       "  'work',\n",
       "  'will',\n",
       "  'be',\n",
       "  'allowed',\n",
       "  'but',\n",
       "  'waiting',\n",
       "  'to',\n",
       "  'hear',\n",
       "  'from',\n",
       "  'distri…']]"
      ]
     },
     "execution_count": 386,
     "metadata": {},
     "output_type": "execute_result"
    }
   ],
   "source": [
    "tweet_words = [tweet.split() for tweet in all_tweets_text ]#creating a list containing the words of each individual tweet\n",
    "tweet_words[1:3]"
   ]
  },
  {
   "cell_type": "markdown",
   "metadata": {},
   "source": [
    "Here, Since a new list is created, stopwords should be removed again"
   ]
  },
  {
   "cell_type": "code",
   "execution_count": 387,
   "metadata": {},
   "outputs": [],
   "source": [
    "words_in_tweet_not_stop_word = []\n",
    "for words_in_tweet in tweet_words:\n",
    "    words_in_tweet_temp=words_in_tweet[:]\n",
    "    for word in words_in_tweet_temp:\n",
    "        if word in stop_words:\n",
    "            words_in_tweet.remove(word)\n",
    "        elif word in words_to_be_removed:\n",
    "            words_in_tweet.remove(word)            "
   ]
  },
  {
   "cell_type": "markdown",
   "metadata": {},
   "source": [
    "To identify co-occurrence of words in the tweets, you can use:"
   ]
  },
  {
   "cell_type": "code",
   "execution_count": 388,
   "metadata": {},
   "outputs": [
    {
     "data": {
      "text/plain": [
       "[[('🌍', 'anywhere'),\n",
       "  ('anywhere', 'customer'),\n",
       "  ('customer', 'success'),\n",
       "  ('success', 'manager'),\n",
       "  ('manager', 'product'),\n",
       "  ('product', 'manager'),\n",
       "  ('manager', 'experience'),\n",
       "  ('experience', 'required'),\n",
       "  ('required', 'ahaio👇'),\n",
       "  ('ahaio👇', 'remote…')],\n",
       " [('allinone', 'solution'),\n",
       "  ('solution', 'desktop'),\n",
       "  ('desktop', 'pc'),\n",
       "  ('pc', 'game'),\n",
       "  ('game', 'awesun'),\n",
       "  ('awesun', 'matter'),\n",
       "  ('matter', 'you’re'),\n",
       "  ('you’re', 'always'),\n",
       "  ('always', 'j…')],\n",
       " [('chicagoarea', 'teachers'),\n",
       "  ('teachers', 'higher'),\n",
       "  ('higher', 'risk'),\n",
       "  ('risk', 'covid19'),\n",
       "  ('covid19', 'hope'),\n",
       "  ('hope', 'allowed'),\n",
       "  ('allowed', 'waiting'),\n",
       "  ('waiting', 'hear'),\n",
       "  ('hear', 'distri…')]]"
      ]
     },
     "execution_count": 388,
     "metadata": {},
     "output_type": "execute_result"
    }
   ],
   "source": [
    "terms_bigram = [list(bigrams(tweet)) for tweet in tweet_words ]\n",
    "terms_bigram[:3]"
   ]
  },
  {
   "cell_type": "markdown",
   "metadata": {},
   "source": [
    "Make an iterator that returns elements from the first iterable until it is exhausted, then proceeds to the next iterable, until all of the iterables are exhausted. Used for treating consecutive sequences as a single sequence."
   ]
  },
  {
   "cell_type": "code",
   "execution_count": 389,
   "metadata": {},
   "outputs": [],
   "source": [
    "bigrams_2 = list(itertools.chain(*terms_bigram))"
   ]
  },
  {
   "cell_type": "markdown",
   "metadata": {},
   "source": [
    "Counting the number of times that a combination happens:"
   ]
  },
  {
   "cell_type": "code",
   "execution_count": 390,
   "metadata": {},
   "outputs": [
    {
     "data": {
      "text/html": [
       "<div>\n",
       "<style scoped>\n",
       "    .dataframe tbody tr th:only-of-type {\n",
       "        vertical-align: middle;\n",
       "    }\n",
       "\n",
       "    .dataframe tbody tr th {\n",
       "        vertical-align: top;\n",
       "    }\n",
       "\n",
       "    .dataframe thead th {\n",
       "        text-align: right;\n",
       "    }\n",
       "</style>\n",
       "<table border=\"1\" class=\"dataframe\">\n",
       "  <thead>\n",
       "    <tr style=\"text-align: right;\">\n",
       "      <th></th>\n",
       "      <th>bigram</th>\n",
       "      <th>count</th>\n",
       "    </tr>\n",
       "  </thead>\n",
       "  <tbody>\n",
       "    <tr>\n",
       "      <th>0</th>\n",
       "      <td>(new, job)</td>\n",
       "      <td>12</td>\n",
       "    </tr>\n",
       "    <tr>\n",
       "      <th>1</th>\n",
       "      <td>(job, listing)</td>\n",
       "      <td>9</td>\n",
       "    </tr>\n",
       "    <tr>\n",
       "      <th>2</th>\n",
       "      <td>(employers, employees)</td>\n",
       "      <td>9</td>\n",
       "    </tr>\n",
       "    <tr>\n",
       "      <th>3</th>\n",
       "      <td>(new, normal)</td>\n",
       "      <td>8</td>\n",
       "    </tr>\n",
       "    <tr>\n",
       "      <th>4</th>\n",
       "      <td>(job, remotework)</td>\n",
       "      <td>7</td>\n",
       "    </tr>\n",
       "    <tr>\n",
       "      <th>5</th>\n",
       "      <td>(poses, serious)</td>\n",
       "      <td>7</td>\n",
       "    </tr>\n",
       "    <tr>\n",
       "      <th>6</th>\n",
       "      <td>(serious, dangers)</td>\n",
       "      <td>7</td>\n",
       "    </tr>\n",
       "    <tr>\n",
       "      <th>7</th>\n",
       "      <td>(dangers, employers)</td>\n",
       "      <td>7</td>\n",
       "    </tr>\n",
       "    <tr>\n",
       "      <th>8</th>\n",
       "      <td>(customer, service)</td>\n",
       "      <td>6</td>\n",
       "    </tr>\n",
       "    <tr>\n",
       "      <th>9</th>\n",
       "      <td>(employees, alike)</td>\n",
       "      <td>6</td>\n",
       "    </tr>\n",
       "  </tbody>\n",
       "</table>\n",
       "</div>"
      ],
      "text/plain": [
       "                   bigram  count\n",
       "0              (new, job)     12\n",
       "1          (job, listing)      9\n",
       "2  (employers, employees)      9\n",
       "3           (new, normal)      8\n",
       "4       (job, remotework)      7\n",
       "5        (poses, serious)      7\n",
       "6      (serious, dangers)      7\n",
       "7    (dangers, employers)      7\n",
       "8     (customer, service)      6\n",
       "9      (employees, alike)      6"
      ]
     },
     "execution_count": 390,
     "metadata": {},
     "output_type": "execute_result"
    }
   ],
   "source": [
    "bigram_counts = collections.Counter(bigrams_2)\n",
    "\n",
    "bigram_df = pd.DataFrame(bigram_counts.most_common(10),\n",
    "                             columns=['bigram', 'count'])\n",
    "\n",
    "bigram_df"
   ]
  },
  {
   "cell_type": "markdown",
   "metadata": {},
   "source": [
    "Create dictionary of bigrams and their counts:"
   ]
  },
  {
   "cell_type": "code",
   "execution_count": 391,
   "metadata": {},
   "outputs": [
    {
     "data": {
      "text/plain": [
       "{('new', 'job'): {'count': 12},\n",
       " ('job', 'listing'): {'count': 9},\n",
       " ('employers', 'employees'): {'count': 9},\n",
       " ('new', 'normal'): {'count': 8},\n",
       " ('job', 'remotework'): {'count': 7},\n",
       " ('poses', 'serious'): {'count': 7},\n",
       " ('serious', 'dangers'): {'count': 7},\n",
       " ('dangers', 'employers'): {'count': 7},\n",
       " ('customer', 'service'): {'count': 6},\n",
       " ('employees', 'alike'): {'count': 6}}"
      ]
     },
     "execution_count": 391,
     "metadata": {},
     "output_type": "execute_result"
    }
   ],
   "source": [
    "bigram_df.set_index('bigram').T.to_dict()"
   ]
  },
  {
   "cell_type": "code",
   "execution_count": 392,
   "metadata": {},
   "outputs": [
    {
     "data": {
      "text/plain": [
       "[{('new', 'job'): 12,\n",
       "  ('job', 'listing'): 9,\n",
       "  ('employers', 'employees'): 9,\n",
       "  ('new', 'normal'): 8,\n",
       "  ('job', 'remotework'): 7,\n",
       "  ('poses', 'serious'): 7,\n",
       "  ('serious', 'dangers'): 7,\n",
       "  ('dangers', 'employers'): 7,\n",
       "  ('customer', 'service'): 6,\n",
       "  ('employees', 'alike'): 6}]"
      ]
     },
     "execution_count": 392,
     "metadata": {},
     "output_type": "execute_result"
    }
   ],
   "source": [
    "d = bigram_df.set_index('bigram').T.to_dict('records')\n",
    "d"
   ]
  },
  {
   "cell_type": "code",
   "execution_count": 393,
   "metadata": {},
   "outputs": [],
   "source": [
    "# Create network plot \n",
    "G = nx.Graph()\n",
    "\n",
    "# Create connections between nodes\n",
    "for k, v in d[0].items():\n",
    "    G.add_edge(k[0], k[1], weight=(v * 10))\n",
    "\n",
    "G.add_node(\"ref\", weight=100)"
   ]
  },
  {
   "cell_type": "code",
   "execution_count": 426,
   "metadata": {},
   "outputs": [
    {
     "name": "stderr",
     "output_type": "stream",
     "text": [
      "WARNING:matplotlib.axes._axes:*c* argument looks like a single numeric RGB or RGBA sequence, which should be avoided as value-mapping will have precedence in case its length matches with *x* & *y*.  Please use the *color* keyword-argument or provide a 2-D array with a single row if you intend to specify the same RGB or RGBA value for all points.\n"
     ]
    },
    {
     "data": {
      "image/png": "[encoded data removed]",
      "text/plain": [
       "<Figure size 720x576 with 1 Axes>"
      ]
     },
     "metadata": {},
     "output_type": "display_data"
    }
   ],
   "source": [
    "fig, ax = plt.subplots(figsize=(10, 8))\n",
    "\n",
    "pos = nx.spring_layout(G, k=2)\n",
    "\n",
    "# Plot networks\n",
    "nx.draw_networkx(G, pos,\n",
    "                 font_size=16,\n",
    "                 width=3,\n",
    "                 edge_color=(0.2,.45,0.65),\n",
    "                 node_color=(0.25,0.5,0.55),\n",
    "                 with_labels = False,\n",
    "                 ax=ax)\n",
    "\n",
    "# Create offset labels\n",
    "for key, value in pos.items():\n",
    "    x, y = value[0]+.135, value[1]+.045\n",
    "    ax.text(x, y,\n",
    "            s=key,\n",
    "            bbox=dict(facecolor=(0.2,0.4,0.5), alpha=0.25),\n",
    "            horizontalalignment='center', fontsize=13)\n",
    "    \n",
    "plt.show()"
   ]
  },
  {
   "cell_type": "markdown",
   "metadata": {},
   "source": [
    "## Looking at the sentiment of the tweets"
   ]
  },
  {
   "cell_type": "code",
   "execution_count": 395,
   "metadata": {},
   "outputs": [
    {
     "data": {
      "text/plain": [
       "(0.3,\n",
       " TextBlob(\"🌍 work from anywhere as a customer success manager product manager experience required for ahaio👇 remote… \"))"
      ]
     },
     "execution_count": 395,
     "metadata": {},
     "output_type": "execute_result"
    }
   ],
   "source": [
    "sentiment_objects = [TextBlob(tweet) for tweet in all_tweets_text]\n",
    "\n",
    "sentiment_objects[0].polarity, sentiment_objects[0]#just to check"
   ]
  },
  {
   "cell_type": "code",
   "execution_count": 396,
   "metadata": {},
   "outputs": [
    {
     "data": {
      "text/plain": [
       "[0.3,\n",
       " '🌍 work from anywhere as a customer success manager product manager experience required for ahaio👇 remote… ']"
      ]
     },
     "execution_count": 396,
     "metadata": {},
     "output_type": "execute_result"
    }
   ],
   "source": [
    "sentiment_values = [[tweet.sentiment.polarity, str(tweet)] for tweet in sentiment_objects]\n",
    "\n",
    "sentiment_values[0]#just to check"
   ]
  },
  {
   "cell_type": "code",
   "execution_count": 398,
   "metadata": {},
   "outputs": [
    {
     "data": {
      "text/html": [
       "<div>\n",
       "<style scoped>\n",
       "    .dataframe tbody tr th:only-of-type {\n",
       "        vertical-align: middle;\n",
       "    }\n",
       "\n",
       "    .dataframe tbody tr th {\n",
       "        vertical-align: top;\n",
       "    }\n",
       "\n",
       "    .dataframe thead th {\n",
       "        text-align: right;\n",
       "    }\n",
       "</style>\n",
       "<table border=\"1\" class=\"dataframe\">\n",
       "  <thead>\n",
       "    <tr style=\"text-align: right;\">\n",
       "      <th></th>\n",
       "      <th>polarity</th>\n",
       "      <th>tweet</th>\n",
       "    </tr>\n",
       "  </thead>\n",
       "  <tbody>\n",
       "    <tr>\n",
       "      <th>0</th>\n",
       "      <td>0.300000</td>\n",
       "      <td>🌍 work from anywhere as a customer success man...</td>\n",
       "    </tr>\n",
       "    <tr>\n",
       "      <th>1</th>\n",
       "      <td>-0.200000</td>\n",
       "      <td>an allinone solution for remote desktop and re...</td>\n",
       "    </tr>\n",
       "    <tr>\n",
       "      <th>2</th>\n",
       "      <td>0.075000</td>\n",
       "      <td>chicagoarea teachers at higher risk for covid1...</td>\n",
       "    </tr>\n",
       "    <tr>\n",
       "      <th>3</th>\n",
       "      <td>0.150000</td>\n",
       "      <td>join apa and roberthalffa for a free webinar o...</td>\n",
       "    </tr>\n",
       "    <tr>\n",
       "      <th>4</th>\n",
       "      <td>-0.050000</td>\n",
       "      <td>learn how covid19 has accelerated the transiti...</td>\n",
       "    </tr>\n",
       "    <tr>\n",
       "      <th>5</th>\n",
       "      <td>0.150000</td>\n",
       "      <td>on channel 9 enabling secure remote work using...</td>\n",
       "    </tr>\n",
       "    <tr>\n",
       "      <th>6</th>\n",
       "      <td>0.325000</td>\n",
       "      <td>after seeing two cohorts of summer interns suc...</td>\n",
       "    </tr>\n",
       "    <tr>\n",
       "      <th>7</th>\n",
       "      <td>0.000000</td>\n",
       "      <td>the santa clara county community will likely s...</td>\n",
       "    </tr>\n",
       "    <tr>\n",
       "      <th>8</th>\n",
       "      <td>-0.100000</td>\n",
       "      <td>lessons from a remote ceo how to create bounda...</td>\n",
       "    </tr>\n",
       "    <tr>\n",
       "      <th>9</th>\n",
       "      <td>-0.100000</td>\n",
       "      <td>be remote and work from anywhere</td>\n",
       "    </tr>\n",
       "    <tr>\n",
       "      <th>10</th>\n",
       "      <td>0.050000</td>\n",
       "      <td>an online coaching business and it has helped ...</td>\n",
       "    </tr>\n",
       "    <tr>\n",
       "      <th>11</th>\n",
       "      <td>0.172727</td>\n",
       "      <td>the pandemic created a grand global experiment...</td>\n",
       "    </tr>\n",
       "    <tr>\n",
       "      <th>12</th>\n",
       "      <td>0.000000</td>\n",
       "      <td>need a career change 🤔dip your toes into seers...</td>\n",
       "    </tr>\n",
       "    <tr>\n",
       "      <th>13</th>\n",
       "      <td>-0.066667</td>\n",
       "      <td>100 remote work from home sas visual analytics...</td>\n",
       "    </tr>\n",
       "    <tr>\n",
       "      <th>14</th>\n",
       "      <td>0.228571</td>\n",
       "      <td>work from home telecommuting remote work whate...</td>\n",
       "    </tr>\n",
       "    <tr>\n",
       "      <th>15</th>\n",
       "      <td>0.062121</td>\n",
       "      <td>insights from upworks futureworkforce report +...</td>\n",
       "    </tr>\n",
       "    <tr>\n",
       "      <th>16</th>\n",
       "      <td>-0.100000</td>\n",
       "      <td>almost overnight remote work has become mainst...</td>\n",
       "    </tr>\n",
       "    <tr>\n",
       "      <th>17</th>\n",
       "      <td>0.000000</td>\n",
       "      <td>i’m setting my expectations to “google time” g...</td>\n",
       "    </tr>\n",
       "    <tr>\n",
       "      <th>18</th>\n",
       "      <td>0.450000</td>\n",
       "      <td>join crewhu at comptia channelcon on 8486 for ...</td>\n",
       "    </tr>\n",
       "    <tr>\n",
       "      <th>19</th>\n",
       "      <td>0.018182</td>\n",
       "      <td>🚨 new remote job listing 📢             custome...</td>\n",
       "    </tr>\n",
       "    <tr>\n",
       "      <th>20</th>\n",
       "      <td>0.083333</td>\n",
       "      <td>symmetry financial group is looking for a remo...</td>\n",
       "    </tr>\n",
       "    <tr>\n",
       "      <th>21</th>\n",
       "      <td>0.237500</td>\n",
       "      <td>really nice piece by seanblanda on the other s...</td>\n",
       "    </tr>\n",
       "    <tr>\n",
       "      <th>22</th>\n",
       "      <td>0.136364</td>\n",
       "      <td>working from home has a lot of benefits but it...</td>\n",
       "    </tr>\n",
       "    <tr>\n",
       "      <th>23</th>\n",
       "      <td>0.086667</td>\n",
       "      <td>going from 0 remote workers to 400 in less tha...</td>\n",
       "    </tr>\n",
       "    <tr>\n",
       "      <th>24</th>\n",
       "      <td>0.525000</td>\n",
       "      <td>happy yorkshire day to all our personnel from ...</td>\n",
       "    </tr>\n",
       "    <tr>\n",
       "      <th>25</th>\n",
       "      <td>-0.100000</td>\n",
       "      <td>need to work from home  find out how to make i...</td>\n",
       "    </tr>\n",
       "    <tr>\n",
       "      <th>26</th>\n",
       "      <td>0.000000</td>\n",
       "      <td>remotework is not disappearing  google extends...</td>\n",
       "    </tr>\n",
       "    <tr>\n",
       "      <th>27</th>\n",
       "      <td>0.500000</td>\n",
       "      <td>employees have had to get creative to be able ...</td>\n",
       "    </tr>\n",
       "    <tr>\n",
       "      <th>28</th>\n",
       "      <td>0.600000</td>\n",
       "      <td>7 great security steps from our pals at securi...</td>\n",
       "    </tr>\n",
       "    <tr>\n",
       "      <th>29</th>\n",
       "      <td>0.214394</td>\n",
       "      <td>bsg the 20 most popular workfromhome jobs and ...</td>\n",
       "    </tr>\n",
       "  </tbody>\n",
       "</table>\n",
       "</div>"
      ],
      "text/plain": [
       "    polarity                                              tweet\n",
       "0   0.300000  🌍 work from anywhere as a customer success man...\n",
       "1  -0.200000  an allinone solution for remote desktop and re...\n",
       "2   0.075000  chicagoarea teachers at higher risk for covid1...\n",
       "3   0.150000  join apa and roberthalffa for a free webinar o...\n",
       "4  -0.050000  learn how covid19 has accelerated the transiti...\n",
       "5   0.150000  on channel 9 enabling secure remote work using...\n",
       "6   0.325000  after seeing two cohorts of summer interns suc...\n",
       "7   0.000000  the santa clara county community will likely s...\n",
       "8  -0.100000  lessons from a remote ceo how to create bounda...\n",
       "9  -0.100000                 be remote and work from anywhere  \n",
       "10  0.050000  an online coaching business and it has helped ...\n",
       "11  0.172727  the pandemic created a grand global experiment...\n",
       "12  0.000000  need a career change 🤔dip your toes into seers...\n",
       "13 -0.066667  100 remote work from home sas visual analytics...\n",
       "14  0.228571  work from home telecommuting remote work whate...\n",
       "15  0.062121  insights from upworks futureworkforce report +...\n",
       "16 -0.100000  almost overnight remote work has become mainst...\n",
       "17  0.000000  i’m setting my expectations to “google time” g...\n",
       "18  0.450000  join crewhu at comptia channelcon on 8486 for ...\n",
       "19  0.018182  🚨 new remote job listing 📢             custome...\n",
       "20  0.083333  symmetry financial group is looking for a remo...\n",
       "21  0.237500  really nice piece by seanblanda on the other s...\n",
       "22  0.136364  working from home has a lot of benefits but it...\n",
       "23  0.086667  going from 0 remote workers to 400 in less tha...\n",
       "24  0.525000  happy yorkshire day to all our personnel from ...\n",
       "25 -0.100000  need to work from home  find out how to make i...\n",
       "26  0.000000  remotework is not disappearing  google extends...\n",
       "27  0.500000  employees have had to get creative to be able ...\n",
       "28  0.600000  7 great security steps from our pals at securi...\n",
       "29  0.214394  bsg the 20 most popular workfromhome jobs and ..."
      ]
     },
     "execution_count": 398,
     "metadata": {},
     "output_type": "execute_result"
    }
   ],
   "source": [
    "sentiment_df = pd.DataFrame(sentiment_values, columns=[\"polarity\", \"tweet\"])\n",
    "\n",
    "sentiment_df.head(30)"
   ]
  },
  {
   "cell_type": "code",
   "execution_count": 403,
   "metadata": {},
   "outputs": [
    {
     "data": {
      "image/png": "[encoded data removed]",
      "text/plain": [
       "<Figure size 576x576 with 1 Axes>"
      ]
     },
     "metadata": {},
     "output_type": "display_data"
    }
   ],
   "source": [
    "fig, ax = plt.subplots(figsize=(8, 8))\n",
    "\n",
    "# Plot histogram of the polarity values\n",
    "sentiment_df.hist(grid=False,bins=[-1, -0.75, -0.5, -0.25, 0.25, 0.5, 0.75, 1],\n",
    "             ax=ax,\n",
    "             color=(0.2,0.5,0.55), ylabelsize=14,xlabelsize=14)\n",
    "\n",
    "plt.title(\"Sentiments from Tweets on work from home\",fontsize=15)\n",
    "plt.xlabel('Polarity',fontsize=15)\n",
    "plt.ylabel('Count',fontsize=15)\n",
    "plt.show()"
   ]
  },
  {
   "cell_type": "markdown",
   "metadata": {},
   "source": [
    "Polarity values equal to zero shows neutral, positive value indicates positive and negative value indicates negative feeling!"
   ]
  },
  {
   "cell_type": "code",
   "execution_count": 404,
   "metadata": {},
   "outputs": [],
   "source": [
    "# Remove polarity values equal to zero\n",
    "sentiment_df = sentiment_df[sentiment_df.polarity != 0]"
   ]
  },
  {
   "cell_type": "code",
   "execution_count": 420,
   "metadata": {},
   "outputs": [
    {
     "data": {
      "image/png": "[encoded data removed]",
      "text/plain": [
       "<Figure size 576x576 with 1 Axes>"
      ]
     },
     "metadata": {},
     "output_type": "display_data"
    }
   ],
   "source": [
    "fig, ax = plt.subplots(figsize=(8, 8))\n",
    "\n",
    "\n",
    "sentiment_df.hist(grid=False,bins=[-1, -0.75, -0.5, -0.25, 0.0, 0.25, 0.5, 0.75, 1],\n",
    "             ax=ax,\n",
    "             color=(0.2,0.5,0.57),ylabelsize=14,xlabelsize=14)\n",
    "\n",
    "plt.title(\"Sentiments from Tweets (removing neutral polarities)\",fontsize=15)\n",
    "plt.xlabel('Polarity',fontsize=15)\n",
    "plt.ylabel('Count',fontsize=15)\n",
    "plt.show()"
   ]
  },
  {
   "cell_type": "markdown",
   "metadata": {},
   "source": [
    "# Streaming Tweets for Sentiments Based on Locations"
   ]
  },
  {
   "cell_type": "code",
   "execution_count": 406,
   "metadata": {},
   "outputs": [],
   "source": [
    "api = TwitterAPI(API_key,\n",
    "                API_secret_key,\n",
    "                Token,\n",
    "                Token_secret)\n",
    "response = api.request('statuses/filter',\\\n",
    "                       {'track': ['work','home','remote']})"
   ]
  },
  {
   "cell_type": "code",
   "execution_count": 407,
   "metadata": {},
   "outputs": [
    {
     "name": "stdout",
     "output_type": "stream",
     "text": [
      "<Response [200]>\n"
     ]
    }
   ],
   "source": [
    "print(response.response)#to check if the connection has been Successful(200-->Success)"
   ]
  },
  {
   "cell_type": "code",
   "execution_count": 408,
   "metadata": {},
   "outputs": [],
   "source": [
    "location = []\n",
    "tweetText=[]\n",
    "tweets = response.get_iterator()"
   ]
  },
  {
   "cell_type": "markdown",
   "metadata": {},
   "source": [
    "We stream the tweets and if the location exists, we add the location, polarity and text to a list!"
   ]
  },
  {
   "cell_type": "code",
   "execution_count": 409,
   "metadata": {},
   "outputs": [],
   "source": [
    "count = 0\n",
    "\n",
    "while count<500:\n",
    "    tweet = next(tweets)\n",
    "    if 'place' in tweet and tweet['place']!=None and tweet['text']!=None:\n",
    "        place = tweet['place']['full_name']#city or state\n",
    "        country = tweet['place']['country']#country\n",
    "        tweetText = remove_URL(tweet['text'])#tweet's text removing URL\n",
    "        polarity = TextBlob(remove_URL(tweet['text'])).polarity#polarity of the tweet removing URL\n",
    "        if polarity != 0 :\n",
    "            location.append(( country,place, polarity, tweetText))\n",
    "            count+=1\n"
   ]
  },
  {
   "cell_type": "markdown",
   "metadata": {},
   "source": [
    "Defining states in the US, because sometimes it is abbreviations and sometimes the complete name of state:"
   ]
  },
  {
   "cell_type": "code",
   "execution_count": 411,
   "metadata": {},
   "outputs": [],
   "source": [
    "states = {\n",
    "        'AK': 'Alaska',\n",
    "        'AL': 'Alabama',\n",
    "        'AR': 'Arkansas',\n",
    "        'AS': 'American Samoa',\n",
    "        'AZ': 'Arizona',\n",
    "        'CA': 'California',\n",
    "        'CO': 'Colorado',\n",
    "        'CT': 'Connecticut',\n",
    "        'DC': 'District of Columbia',\n",
    "        'DE': 'Delaware',\n",
    "        'FL': 'Florida',\n",
    "        'GA': 'Georgia',\n",
    "        'GU': 'Guam',\n",
    "        'HI': 'Hawaii',\n",
    "        'IA': 'Iowa',\n",
    "        'ID': 'Idaho',\n",
    "        'IL': 'Illinois',\n",
    "        'IN': 'Indiana',\n",
    "        'KS': 'Kansas',\n",
    "        'KY': 'Kentucky',\n",
    "        'LA': 'Louisiana',\n",
    "        'MA': 'Massachusetts',\n",
    "        'MD': 'Maryland',\n",
    "        'ME': 'Maine',\n",
    "        'MI': 'Michigan',\n",
    "        'MN': 'Minnesota',\n",
    "        'MO': 'Missouri',\n",
    "        'MP': 'Northern Mariana Islands',\n",
    "        'MS': 'Mississippi',\n",
    "        'MT': 'Montana',\n",
    "        'NA': 'National',\n",
    "        'NC': 'North Carolina',\n",
    "        'ND': 'North Dakota',\n",
    "        'NE': 'Nebraska',\n",
    "        'NH': 'New Hampshire',\n",
    "        'NJ': 'New Jersey',\n",
    "        'NM': 'New Mexico',\n",
    "        'NV': 'Nevada',\n",
    "        'NY': 'New York',\n",
    "        'OH': 'Ohio',\n",
    "        'OK': 'Oklahoma',\n",
    "        'OR': 'Oregon',\n",
    "        'PA': 'Pennsylvania',\n",
    "        'PR': 'Puerto Rico',\n",
    "        'RI': 'Rhode Island',\n",
    "        'SC': 'South Carolina',\n",
    "        'SD': 'South Dakota',\n",
    "        'TN': 'Tennessee',\n",
    "        'TX': 'Texas',\n",
    "        'UT': 'Utah',\n",
    "        'VA': 'Virginia',\n",
    "        'VI': 'Virgin Islands',\n",
    "        'VT': 'Vermont',\n",
    "        'WA': 'Washington',\n",
    "        'WI': 'Wisconsin',\n",
    "        'WV': 'West Virginia',\n",
    "        'WY': 'Wyoming'\n",
    "}"
   ]
  },
  {
   "cell_type": "markdown",
   "metadata": {},
   "source": [
    "To be able to group the tweets based on the states we need a function to find the state from the states dict:"
   ]
  },
  {
   "cell_type": "code",
   "execution_count": 412,
   "metadata": {},
   "outputs": [],
   "source": [
    "def get_key(val):\n",
    "    \"\"\"To find the key based on value of states dict\n",
    "    input: value in the dictionary\n",
    "    output: corresponding key value\"\"\"\n",
    "    for key, value in states.items(): \n",
    "         if val == value: \n",
    "             return key "
   ]
  },
  {
   "cell_type": "markdown",
   "metadata": {},
   "source": [
    "Creating dataframe to be able to understand the information:"
   ]
  },
  {
   "cell_type": "code",
   "execution_count": 413,
   "metadata": {},
   "outputs": [
    {
     "data": {
      "text/html": [
       "<div>\n",
       "<style scoped>\n",
       "    .dataframe tbody tr th:only-of-type {\n",
       "        vertical-align: middle;\n",
       "    }\n",
       "\n",
       "    .dataframe tbody tr th {\n",
       "        vertical-align: top;\n",
       "    }\n",
       "\n",
       "    .dataframe thead th {\n",
       "        text-align: right;\n",
       "    }\n",
       "</style>\n",
       "<table border=\"1\" class=\"dataframe\">\n",
       "  <thead>\n",
       "    <tr style=\"text-align: right;\">\n",
       "      <th></th>\n",
       "      <th>country</th>\n",
       "      <th>place</th>\n",
       "      <th>polarity</th>\n",
       "      <th>text</th>\n",
       "    </tr>\n",
       "  </thead>\n",
       "  <tbody>\n",
       "    <tr>\n",
       "      <th>0</th>\n",
       "      <td>Australia</td>\n",
       "      <td>Central Coast, New South Wales</td>\n",
       "      <td>0.333333</td>\n",
       "      <td>@jishyra I left Paris because of the weather, ...</td>\n",
       "    </tr>\n",
       "    <tr>\n",
       "      <th>1</th>\n",
       "      <td>Australia</td>\n",
       "      <td>Gawler, South Australia</td>\n",
       "      <td>0.100000</td>\n",
       "      <td>@sunriseon7 If tradies can still work as they ...</td>\n",
       "    </tr>\n",
       "    <tr>\n",
       "      <th>2</th>\n",
       "      <td>Australia</td>\n",
       "      <td>Gold Coast, Queensland</td>\n",
       "      <td>-0.400000</td>\n",
       "      <td>Resident slams 'piss poor' cleaning effort in ...</td>\n",
       "    </tr>\n",
       "    <tr>\n",
       "      <th>3</th>\n",
       "      <td>Australia</td>\n",
       "      <td>Gold Coast, Queensland</td>\n",
       "      <td>-0.400000</td>\n",
       "      <td>Resident slams 'piss poor' cleaning effort in ...</td>\n",
       "    </tr>\n",
       "    <tr>\n",
       "      <th>4</th>\n",
       "      <td>Australia</td>\n",
       "      <td>Macquarie Heads, Tasmania</td>\n",
       "      <td>0.100000</td>\n",
       "      <td>The remote and rarely visited Tiddys Beach nea...</td>\n",
       "    </tr>\n",
       "    <tr>\n",
       "      <th>5</th>\n",
       "      <td>Australia</td>\n",
       "      <td>Melbourne, Victoria</td>\n",
       "      <td>0.200000</td>\n",
       "      <td>Trying to work out if it’s legal to leave home...</td>\n",
       "    </tr>\n",
       "    <tr>\n",
       "      <th>6</th>\n",
       "      <td>Australia</td>\n",
       "      <td>Melbourne, Victoria</td>\n",
       "      <td>0.268182</td>\n",
       "      <td>Gonna have to start wearing all my new winter ...</td>\n",
       "    </tr>\n",
       "    <tr>\n",
       "      <th>7</th>\n",
       "      <td>Australia</td>\n",
       "      <td>Mildura, Victoria</td>\n",
       "      <td>0.544444</td>\n",
       "      <td>@ScottPresler @JoeBiden You are quick mate . K...</td>\n",
       "    </tr>\n",
       "    <tr>\n",
       "      <th>8</th>\n",
       "      <td>Australia</td>\n",
       "      <td>Perth, Western Australia</td>\n",
       "      <td>0.200000</td>\n",
       "      <td>@itsabelslife Will you be just working  from h...</td>\n",
       "    </tr>\n",
       "    <tr>\n",
       "      <th>9</th>\n",
       "      <td>Australia</td>\n",
       "      <td>Stawell, Victoria</td>\n",
       "      <td>-0.600000</td>\n",
       "      <td>A fucking disgrace by pig Andrews</td>\n",
       "    </tr>\n",
       "    <tr>\n",
       "      <th>10</th>\n",
       "      <td>Australia</td>\n",
       "      <td>Sydney, New South Wales</td>\n",
       "      <td>-0.400000</td>\n",
       "      <td>@ANCALERTS They are exhausted can’t u not get ...</td>\n",
       "    </tr>\n",
       "    <tr>\n",
       "      <th>11</th>\n",
       "      <td>Bahamas</td>\n",
       "      <td>Bahamas</td>\n",
       "      <td>0.500000</td>\n",
       "      <td>okay time for this boy friends to carry they a...</td>\n",
       "    </tr>\n",
       "    <tr>\n",
       "      <th>12</th>\n",
       "      <td>Brasil</td>\n",
       "      <td>Curitiba, Brasil</td>\n",
       "      <td>1.000000</td>\n",
       "      <td>@G2Nasa Great work on the broadcast today!</td>\n",
       "    </tr>\n",
       "    <tr>\n",
       "      <th>13</th>\n",
       "      <td>Canada</td>\n",
       "      <td>Burnaby, British Columbia</td>\n",
       "      <td>0.136364</td>\n",
       "      <td>@lilneedyb @itsjustrogue If you live at home a...</td>\n",
       "    </tr>\n",
       "    <tr>\n",
       "      <th>14</th>\n",
       "      <td>Canada</td>\n",
       "      <td>Comox, British Columbia</td>\n",
       "      <td>-0.100000</td>\n",
       "      <td>@donaldblair @CFIB @jamieadamchuk @mariaDadd @...</td>\n",
       "    </tr>\n",
       "    <tr>\n",
       "      <th>15</th>\n",
       "      <td>Canada</td>\n",
       "      <td>Hamilton, Ontario</td>\n",
       "      <td>-0.083333</td>\n",
       "      <td>@waitworry I lived in a small white town growi...</td>\n",
       "    </tr>\n",
       "    <tr>\n",
       "      <th>16</th>\n",
       "      <td>Canada</td>\n",
       "      <td>Lakeshore, Ontario</td>\n",
       "      <td>-0.050000</td>\n",
       "      <td>Ellie spent the ride home the same way she did...</td>\n",
       "    </tr>\n",
       "    <tr>\n",
       "      <th>17</th>\n",
       "      <td>Canada</td>\n",
       "      <td>London, Ontario</td>\n",
       "      <td>-0.333333</td>\n",
       "      <td>Mansplaining.  Seriously 😒</td>\n",
       "    </tr>\n",
       "    <tr>\n",
       "      <th>18</th>\n",
       "      <td>Canada</td>\n",
       "      <td>Lot 49, Prince Edward Island</td>\n",
       "      <td>0.136364</td>\n",
       "      <td>Way to go @_Thomas_Becker !! Awdome! You going...</td>\n",
       "    </tr>\n",
       "    <tr>\n",
       "      <th>19</th>\n",
       "      <td>Canada</td>\n",
       "      <td>Mississauga, Ontario</td>\n",
       "      <td>0.200000</td>\n",
       "      <td>@iltonvince lisod jud!!!!!! Kanang bskan wa ko...</td>\n",
       "    </tr>\n",
       "  </tbody>\n",
       "</table>\n",
       "</div>"
      ],
      "text/plain": [
       "      country                           place  polarity  \\\n",
       "0   Australia  Central Coast, New South Wales  0.333333   \n",
       "1   Australia         Gawler, South Australia  0.100000   \n",
       "2   Australia          Gold Coast, Queensland -0.400000   \n",
       "3   Australia          Gold Coast, Queensland -0.400000   \n",
       "4   Australia       Macquarie Heads, Tasmania  0.100000   \n",
       "5   Australia             Melbourne, Victoria  0.200000   \n",
       "6   Australia             Melbourne, Victoria  0.268182   \n",
       "7   Australia               Mildura, Victoria  0.544444   \n",
       "8   Australia        Perth, Western Australia  0.200000   \n",
       "9   Australia               Stawell, Victoria -0.600000   \n",
       "10  Australia         Sydney, New South Wales -0.400000   \n",
       "11    Bahamas                         Bahamas  0.500000   \n",
       "12     Brasil                Curitiba, Brasil  1.000000   \n",
       "13     Canada       Burnaby, British Columbia  0.136364   \n",
       "14     Canada         Comox, British Columbia -0.100000   \n",
       "15     Canada               Hamilton, Ontario -0.083333   \n",
       "16     Canada              Lakeshore, Ontario -0.050000   \n",
       "17     Canada                 London, Ontario -0.333333   \n",
       "18     Canada    Lot 49, Prince Edward Island  0.136364   \n",
       "19     Canada            Mississauga, Ontario  0.200000   \n",
       "\n",
       "                                                 text  \n",
       "0   @jishyra I left Paris because of the weather, ...  \n",
       "1   @sunriseon7 If tradies can still work as they ...  \n",
       "2   Resident slams 'piss poor' cleaning effort in ...  \n",
       "3   Resident slams 'piss poor' cleaning effort in ...  \n",
       "4   The remote and rarely visited Tiddys Beach nea...  \n",
       "5   Trying to work out if it’s legal to leave home...  \n",
       "6   Gonna have to start wearing all my new winter ...  \n",
       "7   @ScottPresler @JoeBiden You are quick mate . K...  \n",
       "8   @itsabelslife Will you be just working  from h...  \n",
       "9                   A fucking disgrace by pig Andrews  \n",
       "10  @ANCALERTS They are exhausted can’t u not get ...  \n",
       "11  okay time for this boy friends to carry they a...  \n",
       "12         @G2Nasa Great work on the broadcast today!  \n",
       "13  @lilneedyb @itsjustrogue If you live at home a...  \n",
       "14  @donaldblair @CFIB @jamieadamchuk @mariaDadd @...  \n",
       "15  @waitworry I lived in a small white town growi...  \n",
       "16  Ellie spent the ride home the same way she did...  \n",
       "17                         Mansplaining.  Seriously 😒  \n",
       "18  Way to go @_Thomas_Becker !! Awdome! You going...  \n",
       "19  @iltonvince lisod jud!!!!!! Kanang bskan wa ko...  "
      ]
     },
     "execution_count": 413,
     "metadata": {},
     "output_type": "execute_result"
    }
   ],
   "source": [
    "\n",
    "sentiment_df = pd.DataFrame(sorted(location), columns=[\"country\",\"place\",'polarity','text'])\n",
    "\n",
    "sentiment_df.head(20)"
   ]
  },
  {
   "cell_type": "markdown",
   "metadata": {},
   "source": [
    "we add the state to the country if the country is US:"
   ]
  },
  {
   "cell_type": "code",
   "execution_count": 414,
   "metadata": {},
   "outputs": [
    {
     "data": {
      "text/html": [
       "<div>\n",
       "<style scoped>\n",
       "    .dataframe tbody tr th:only-of-type {\n",
       "        vertical-align: middle;\n",
       "    }\n",
       "\n",
       "    .dataframe tbody tr th {\n",
       "        vertical-align: top;\n",
       "    }\n",
       "\n",
       "    .dataframe thead th {\n",
       "        text-align: right;\n",
       "    }\n",
       "</style>\n",
       "<table border=\"1\" class=\"dataframe\">\n",
       "  <thead>\n",
       "    <tr style=\"text-align: right;\">\n",
       "      <th></th>\n",
       "      <th>country</th>\n",
       "      <th>place</th>\n",
       "      <th>polarity</th>\n",
       "      <th>text</th>\n",
       "    </tr>\n",
       "  </thead>\n",
       "  <tbody>\n",
       "    <tr>\n",
       "      <th>0</th>\n",
       "      <td>Australia</td>\n",
       "      <td>Central Coast, New South Wales</td>\n",
       "      <td>0.333333</td>\n",
       "      <td>@jishyra I left Paris because of the weather, ...</td>\n",
       "    </tr>\n",
       "    <tr>\n",
       "      <th>1</th>\n",
       "      <td>Australia</td>\n",
       "      <td>Gawler, South Australia</td>\n",
       "      <td>0.100000</td>\n",
       "      <td>@sunriseon7 If tradies can still work as they ...</td>\n",
       "    </tr>\n",
       "    <tr>\n",
       "      <th>2</th>\n",
       "      <td>Australia</td>\n",
       "      <td>Gold Coast, Queensland</td>\n",
       "      <td>-0.400000</td>\n",
       "      <td>Resident slams 'piss poor' cleaning effort in ...</td>\n",
       "    </tr>\n",
       "    <tr>\n",
       "      <th>3</th>\n",
       "      <td>Australia</td>\n",
       "      <td>Gold Coast, Queensland</td>\n",
       "      <td>-0.400000</td>\n",
       "      <td>Resident slams 'piss poor' cleaning effort in ...</td>\n",
       "    </tr>\n",
       "    <tr>\n",
       "      <th>4</th>\n",
       "      <td>Australia</td>\n",
       "      <td>Macquarie Heads, Tasmania</td>\n",
       "      <td>0.100000</td>\n",
       "      <td>The remote and rarely visited Tiddys Beach nea...</td>\n",
       "    </tr>\n",
       "    <tr>\n",
       "      <th>...</th>\n",
       "      <td>...</td>\n",
       "      <td>...</td>\n",
       "      <td>...</td>\n",
       "      <td>...</td>\n",
       "    </tr>\n",
       "    <tr>\n",
       "      <th>495</th>\n",
       "      <td>United States, NC</td>\n",
       "      <td>Winston-Salem, NC</td>\n",
       "      <td>0.468750</td>\n",
       "      <td>Wow Carm!! Thank God for Jesus and thank God f...</td>\n",
       "    </tr>\n",
       "    <tr>\n",
       "      <th>496</th>\n",
       "      <td>United States, WI</td>\n",
       "      <td>Wisconsin, USA</td>\n",
       "      <td>1.000000</td>\n",
       "      <td>Yes, that will be perfect! See you in the morn...</td>\n",
       "    </tr>\n",
       "    <tr>\n",
       "      <th>497</th>\n",
       "      <td>United States, OH</td>\n",
       "      <td>Zanesville, OH</td>\n",
       "      <td>0.225000</td>\n",
       "      <td>@jojoluvs18 @steveluvender He’s due to win one...</td>\n",
       "    </tr>\n",
       "    <tr>\n",
       "      <th>498</th>\n",
       "      <td>United States, IN</td>\n",
       "      <td>Zionsville, IN</td>\n",
       "      <td>-0.050000</td>\n",
       "      <td>@JoelBonnett23 Pre:  Bands, long toss, pen wor...</td>\n",
       "    </tr>\n",
       "    <tr>\n",
       "      <th>499</th>\n",
       "      <td>المملكة العربية السعودية</td>\n",
       "      <td>جدة, المملكة العربية السعودية</td>\n",
       "      <td>0.350000</td>\n",
       "      <td>HOME SWEET HOME💕</td>\n",
       "    </tr>\n",
       "  </tbody>\n",
       "</table>\n",
       "<p>500 rows × 4 columns</p>\n",
       "</div>"
      ],
      "text/plain": [
       "                      country                           place  polarity  \\\n",
       "0                   Australia  Central Coast, New South Wales  0.333333   \n",
       "1                   Australia         Gawler, South Australia  0.100000   \n",
       "2                   Australia          Gold Coast, Queensland -0.400000   \n",
       "3                   Australia          Gold Coast, Queensland -0.400000   \n",
       "4                   Australia       Macquarie Heads, Tasmania  0.100000   \n",
       "..                        ...                             ...       ...   \n",
       "495         United States, NC               Winston-Salem, NC  0.468750   \n",
       "496         United States, WI                  Wisconsin, USA  1.000000   \n",
       "497         United States, OH                  Zanesville, OH  0.225000   \n",
       "498         United States, IN                  Zionsville, IN -0.050000   \n",
       "499  المملكة العربية السعودية   جدة, المملكة العربية السعودية  0.350000   \n",
       "\n",
       "                                                  text  \n",
       "0    @jishyra I left Paris because of the weather, ...  \n",
       "1    @sunriseon7 If tradies can still work as they ...  \n",
       "2    Resident slams 'piss poor' cleaning effort in ...  \n",
       "3    Resident slams 'piss poor' cleaning effort in ...  \n",
       "4    The remote and rarely visited Tiddys Beach nea...  \n",
       "..                                                 ...  \n",
       "495  Wow Carm!! Thank God for Jesus and thank God f...  \n",
       "496  Yes, that will be perfect! See you in the morn...  \n",
       "497  @jojoluvs18 @steveluvender He’s due to win one...  \n",
       "498  @JoelBonnett23 Pre:  Bands, long toss, pen wor...  \n",
       "499                                   HOME SWEET HOME💕  \n",
       "\n",
       "[500 rows x 4 columns]"
      ]
     },
     "execution_count": 414,
     "metadata": {},
     "output_type": "execute_result"
    }
   ],
   "source": [
    "for i in range(len(sentiment_df['country'])):\n",
    "    if sentiment_df['country'][i] == 'United States':\n",
    "        #if at the end of place column, there is a ', xx', we assume that it is the state\n",
    "        if re.search(',\\s\\w\\w$', sentiment_df['place'][i],flags=re.IGNORECASE):\n",
    "            sentiment_df['country'][i] += sentiment_df['place'][i][-4:]\n",
    "        #if at the end of place, there is a ', USA', we assume that before the state is before\\\n",
    "        #it and we get the value from statesdict\n",
    "        elif re.search(',\\sUSA$', sentiment_df['place'][i],flags=re.IGNORECASE):\n",
    "            sentiment_df['country'][i] = sentiment_df['country'][i]+', '+get_key(sentiment_df['place'][i][:-5])\n",
    "            \n",
    "sentiment_df"
   ]
  },
  {
   "cell_type": "markdown",
   "metadata": {},
   "source": [
    "We can look at the polarity of tweets about work from home for each location:"
   ]
  },
  {
   "cell_type": "code",
   "execution_count": 415,
   "metadata": {},
   "outputs": [
    {
     "data": {
      "text/html": [
       "<div>\n",
       "<style scoped>\n",
       "    .dataframe tbody tr th:only-of-type {\n",
       "        vertical-align: middle;\n",
       "    }\n",
       "\n",
       "    .dataframe tbody tr th {\n",
       "        vertical-align: top;\n",
       "    }\n",
       "\n",
       "    .dataframe thead th {\n",
       "        text-align: right;\n",
       "    }\n",
       "</style>\n",
       "<table border=\"1\" class=\"dataframe\">\n",
       "  <thead>\n",
       "    <tr style=\"text-align: right;\">\n",
       "      <th></th>\n",
       "      <th>polarity</th>\n",
       "    </tr>\n",
       "    <tr>\n",
       "      <th>country</th>\n",
       "      <th></th>\n",
       "    </tr>\n",
       "  </thead>\n",
       "  <tbody>\n",
       "    <tr>\n",
       "      <th>Australia</th>\n",
       "      <td>-0.004913</td>\n",
       "    </tr>\n",
       "    <tr>\n",
       "      <th>Bahamas</th>\n",
       "      <td>0.500000</td>\n",
       "    </tr>\n",
       "    <tr>\n",
       "      <th>Brasil</th>\n",
       "      <td>1.000000</td>\n",
       "    </tr>\n",
       "    <tr>\n",
       "      <th>Canada</th>\n",
       "      <td>0.078579</td>\n",
       "    </tr>\n",
       "    <tr>\n",
       "      <th>Deutschland</th>\n",
       "      <td>0.200000</td>\n",
       "    </tr>\n",
       "    <tr>\n",
       "      <th>...</th>\n",
       "      <td>...</td>\n",
       "    </tr>\n",
       "    <tr>\n",
       "      <th>United States, VA</th>\n",
       "      <td>0.112222</td>\n",
       "    </tr>\n",
       "    <tr>\n",
       "      <th>United States, WA</th>\n",
       "      <td>0.335000</td>\n",
       "    </tr>\n",
       "    <tr>\n",
       "      <th>United States, WI</th>\n",
       "      <td>0.414286</td>\n",
       "    </tr>\n",
       "    <tr>\n",
       "      <th>United States, WV</th>\n",
       "      <td>-0.166667</td>\n",
       "    </tr>\n",
       "    <tr>\n",
       "      <th>المملكة العربية السعودية</th>\n",
       "      <td>0.350000</td>\n",
       "    </tr>\n",
       "  </tbody>\n",
       "</table>\n",
       "<p>67 rows × 1 columns</p>\n",
       "</div>"
      ],
      "text/plain": [
       "                          polarity\n",
       "country                           \n",
       "Australia                -0.004913\n",
       "Bahamas                   0.500000\n",
       "Brasil                    1.000000\n",
       "Canada                    0.078579\n",
       "Deutschland               0.200000\n",
       "...                            ...\n",
       "United States, VA         0.112222\n",
       "United States, WA         0.335000\n",
       "United States, WI         0.414286\n",
       "United States, WV        -0.166667\n",
       "المملكة العربية السعودية  0.350000\n",
       "\n",
       "[67 rows x 1 columns]"
      ]
     },
     "execution_count": 415,
     "metadata": {},
     "output_type": "execute_result"
    }
   ],
   "source": [
    "sentiment_df.groupby('country')['polarity'].mean()\n",
    "Grouped_sentiment = pd.DataFrame(sentiment_df.groupby('country')['polarity'].mean())\n",
    "Grouped_sentiment"
   ]
  },
  {
   "cell_type": "code",
   "execution_count": 419,
   "metadata": {},
   "outputs": [
    {
     "data": {
      "image/png": "[encoded data removed]",
      "text/plain": [
       "<Figure size 864x432 with 2 Axes>"
      ]
     },
     "metadata": {},
     "output_type": "display_data"
    }
   ],
   "source": [
    "from itertools import cycle, islice\n",
    "import pandas, numpy as np  # I find np.random.randint to be better\n",
    "#my_colors = list(islice(cycle(['b', 'r', 'g', 'y', 'k']), None, len(Grouped_sentiment['polarity'])))\n",
    "\n",
    "fig, ax = plt.subplots(figsize=(12, 6))\n",
    "#my_colors = ['g', 'b','y']*5 # <-- this concatenates the list to itself 5 times.\n",
    "#my_colors = [(0.5,0.4,0.5), (0.75, 0.75, 0.25)]*5 # <-- make two custom RGBs and repeat/alternate them over all the bar elements.\n",
    "my_colors = [(x/100.0, x/200.0, 0.75) for x in range(len(Grouped_sentiment['polarity']))] # <-- Quick gradient example along the Red/Green dimensions.\n",
    "my_colors = [(x/200, x/110, 0.6) for x in range(len(Grouped_sentiment['polarity']))]\n",
    "ax = fig.add_axes([0,0,1,1])\n",
    "region = Grouped_sentiment.index\n",
    "polarity = Grouped_sentiment['polarity']\n",
    "ax.bar(region,polarity, color=my_colors)\n",
    "plt.xticks(rotation='vertical',fontsize=10)\n",
    "plt.yticks(fontsize=12)\n",
    "plt.ylabel('Polarity',fontsize=15)\n",
    "plt.title('Polarity of tweets about work from home based on the country (and states in the US)',fontsize=12)\n",
    "fig.tight_layout()\n",
    "plt.show()"
   ]
  },
  {
   "cell_type": "markdown",
   "metadata": {},
   "source": [
    "## Thoughts:\n",
    "From this initial test, it appears that there is generally a positive sentiment regarding working from home. I am curious to follow more of these sentiments, not only in Twitter but also in Facebook, Instagram, LinkedIn, and google searches. The next steps would be to analyze more tweets and over a longer time period. This information can then be compared with data regarding COVID-19 cases and how well a particular area has controlled the spread of the virus. Additionally, learning about the sentiment of people regarding working from home can help businesses in long-term business planning and choosing best advertisements for clothing, home improvement projects, etc. "
   ]
  },
  {
   "cell_type": "code",
   "execution_count": null,
   "metadata": {},
   "outputs": [],
   "source": []
  }
 ],
 "metadata": {
  "kernelspec": {
   "display_name": "Python 3",
   "language": "python",
   "name": "python3"
  },
  "language_info": {
   "codemirror_mode": {
    "name": "ipython",
    "version": 3
   },
   "file_extension": ".py",
   "mimetype": "text/x-python",
   "name": "python",
   "nbconvert_exporter": "python",
   "pygments_lexer": "ipython3",
   "version": "3.8.3"
  }
 },
 "nbformat": 4,
 "nbformat_minor": 4
}
